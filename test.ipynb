{
 "metadata": {
  "language_info": {
   "codemirror_mode": {
    "name": "ipython",
    "version": 3
   },
   "file_extension": ".py",
   "mimetype": "text/x-python",
   "name": "python",
   "nbconvert_exporter": "python",
   "pygments_lexer": "ipython3",
   "version": "3.8.6-final"
  },
  "orig_nbformat": 2,
  "kernelspec": {
   "name": "python3",
   "display_name": "Python 3",
   "language": "python"
  }
 },
 "nbformat": 4,
 "nbformat_minor": 2,
 "cells": [
  {
   "cell_type": "code",
   "execution_count": 5,
   "metadata": {},
   "outputs": [
    {
     "output_type": "error",
     "ename": "ModuleNotFoundError",
     "evalue": "No module named 'youtube_crawler'",
     "traceback": [
      "\u001b[0;31m---------------------------------------------------------------------------\u001b[0m",
      "\u001b[0;31mModuleNotFoundError\u001b[0m                       Traceback (most recent call last)",
      "\u001b[0;32m<ipython-input-5-cac75025883a>\u001b[0m in \u001b[0;36m<module>\u001b[0;34m\u001b[0m\n\u001b[0;32m----> 1\u001b[0;31m \u001b[0;32mfrom\u001b[0m \u001b[0myoutube_crawler\u001b[0m \u001b[0;32mimport\u001b[0m \u001b[0myoutube_crawler\u001b[0m \u001b[0;32mas\u001b[0m \u001b[0myt\u001b[0m\u001b[0;34m\u001b[0m\u001b[0;34m\u001b[0m\u001b[0m\n\u001b[0m\u001b[1;32m      2\u001b[0m \u001b[0;32mimport\u001b[0m \u001b[0mpandas\u001b[0m \u001b[0;32mas\u001b[0m \u001b[0mpd\u001b[0m\u001b[0;34m\u001b[0m\u001b[0;34m\u001b[0m\u001b[0m\n\u001b[1;32m      3\u001b[0m \u001b[0myt\u001b[0m\u001b[0;34m=\u001b[0m \u001b[0myt\u001b[0m\u001b[0;34m(\u001b[0m\u001b[0;34m)\u001b[0m\u001b[0;34m\u001b[0m\u001b[0;34m\u001b[0m\u001b[0m\n\u001b[1;32m      4\u001b[0m \u001b[0mpd\u001b[0m\u001b[0;34m.\u001b[0m\u001b[0moptions\u001b[0m\u001b[0;34m.\u001b[0m\u001b[0mdisplay\u001b[0m\u001b[0;34m.\u001b[0m\u001b[0mmax_rows\u001b[0m\u001b[0;34m=\u001b[0m\u001b[0;36m200\u001b[0m\u001b[0;34m\u001b[0m\u001b[0;34m\u001b[0m\u001b[0m\n",
      "\u001b[0;31mModuleNotFoundError\u001b[0m: No module named 'youtube_crawler'"
     ]
    }
   ],
   "source": [
    "import sys\n",
    "sys.path.append('..')\n",
    "from youtube_crawler import youtube_crawler as yt\n",
    "import pandas as pd\n",
    "yt= yt()\n",
    "pd.options.display.max_rows=200\n"
   ]
  },
  {
   "cell_type": "code",
   "execution_count": 9,
   "metadata": {},
   "outputs": [],
   "source": [
    "t=yt.get_recent_videos_from_query('earthquakes')\n",
    "x=pd.DataFrame.from_dict(t)\n",
    "x"
   ]
  },
  {
   "cell_type": "code",
   "execution_count": 10,
   "metadata": {},
   "outputs": [
    {
     "output_type": "execute_result",
     "data": {
      "text/plain": [
       "                                           links upload_times\n",
       "0    https://www.youtube.com/watch?v=7W3ICDZ6lnI  2 hours ago\n",
       "1    https://www.youtube.com/watch?v=goWknk4qtBg  3 hours ago\n",
       "2    https://www.youtube.com/watch?v=fch8Z9C2CUA  4 hours ago\n",
       "3    https://www.youtube.com/watch?v=GE1Kj0U5v70  4 hours ago\n",
       "4    https://www.youtube.com/watch?v=tAL9curHbAQ  6 hours ago\n",
       "..                                           ...          ...\n",
       "127  https://www.youtube.com/watch?v=NEZZaUDqioI  4 weeks ago\n",
       "128  https://www.youtube.com/watch?v=lz2fRreBH3o  4 weeks ago\n",
       "129  https://www.youtube.com/watch?v=oNiIBds7Pw0  4 weeks ago\n",
       "130  https://www.youtube.com/watch?v=_rg4qbfgk2k  4 weeks ago\n",
       "131  https://www.youtube.com/watch?v=HCq7YFlytSQ  4 weeks ago\n",
       "\n",
       "[132 rows x 2 columns]"
      ],
      "text/html": "<div>\n<style scoped>\n    .dataframe tbody tr th:only-of-type {\n        vertical-align: middle;\n    }\n\n    .dataframe tbody tr th {\n        vertical-align: top;\n    }\n\n    .dataframe thead th {\n        text-align: right;\n    }\n</style>\n<table border=\"1\" class=\"dataframe\">\n  <thead>\n    <tr style=\"text-align: right;\">\n      <th></th>\n      <th>links</th>\n      <th>upload_times</th>\n    </tr>\n  </thead>\n  <tbody>\n    <tr>\n      <th>0</th>\n      <td>https://www.youtube.com/watch?v=7W3ICDZ6lnI</td>\n      <td>2 hours ago</td>\n    </tr>\n    <tr>\n      <th>1</th>\n      <td>https://www.youtube.com/watch?v=goWknk4qtBg</td>\n      <td>3 hours ago</td>\n    </tr>\n    <tr>\n      <th>2</th>\n      <td>https://www.youtube.com/watch?v=fch8Z9C2CUA</td>\n      <td>4 hours ago</td>\n    </tr>\n    <tr>\n      <th>3</th>\n      <td>https://www.youtube.com/watch?v=GE1Kj0U5v70</td>\n      <td>4 hours ago</td>\n    </tr>\n    <tr>\n      <th>4</th>\n      <td>https://www.youtube.com/watch?v=tAL9curHbAQ</td>\n      <td>6 hours ago</td>\n    </tr>\n    <tr>\n      <th>...</th>\n      <td>...</td>\n      <td>...</td>\n    </tr>\n    <tr>\n      <th>127</th>\n      <td>https://www.youtube.com/watch?v=NEZZaUDqioI</td>\n      <td>4 weeks ago</td>\n    </tr>\n    <tr>\n      <th>128</th>\n      <td>https://www.youtube.com/watch?v=lz2fRreBH3o</td>\n      <td>4 weeks ago</td>\n    </tr>\n    <tr>\n      <th>129</th>\n      <td>https://www.youtube.com/watch?v=oNiIBds7Pw0</td>\n      <td>4 weeks ago</td>\n    </tr>\n    <tr>\n      <th>130</th>\n      <td>https://www.youtube.com/watch?v=_rg4qbfgk2k</td>\n      <td>4 weeks ago</td>\n    </tr>\n    <tr>\n      <th>131</th>\n      <td>https://www.youtube.com/watch?v=HCq7YFlytSQ</td>\n      <td>4 weeks ago</td>\n    </tr>\n  </tbody>\n</table>\n<p>132 rows × 2 columns</p>\n</div>"
     },
     "metadata": {},
     "execution_count": 10
    }
   ],
   "source": [
    "t=yt.get_recent_videos_from_query('tsunami')\n",
    "x=pd.DataFrame.from_dict(t)\n",
    "x"
   ]
  },
  {
   "cell_type": "code",
   "execution_count": 11,
   "metadata": {},
   "outputs": [
    {
     "output_type": "execute_result",
     "data": {
      "text/plain": [
       "                                           links  upload_times\n",
       "0    https://www.youtube.com/watch?v=QAsu4fvCRJs   4 hours ago\n",
       "1    https://www.youtube.com/watch?v=QzIRJePADOo   5 hours ago\n",
       "2    https://www.youtube.com/watch?v=g8U-p1MKhKY   5 hours ago\n",
       "3    https://www.youtube.com/watch?v=lhQXQdZVMrQ   9 hours ago\n",
       "4    https://www.youtube.com/watch?v=V9AJmRpI5u0  11 hours ago\n",
       "..                                           ...           ...\n",
       "167  https://www.youtube.com/watch?v=XEpAgCnnYdY   4 weeks ago\n",
       "168  https://www.youtube.com/watch?v=8KhxSPUTrI8   4 weeks ago\n",
       "169  https://www.youtube.com/watch?v=dfDAFmYv7aI   4 weeks ago\n",
       "170  https://www.youtube.com/watch?v=6m2ixU05Voo   4 weeks ago\n",
       "171  https://www.youtube.com/watch?v=zjGssqJ4nq8   4 weeks ago\n",
       "\n",
       "[172 rows x 2 columns]"
      ],
      "text/html": "<div>\n<style scoped>\n    .dataframe tbody tr th:only-of-type {\n        vertical-align: middle;\n    }\n\n    .dataframe tbody tr th {\n        vertical-align: top;\n    }\n\n    .dataframe thead th {\n        text-align: right;\n    }\n</style>\n<table border=\"1\" class=\"dataframe\">\n  <thead>\n    <tr style=\"text-align: right;\">\n      <th></th>\n      <th>links</th>\n      <th>upload_times</th>\n    </tr>\n  </thead>\n  <tbody>\n    <tr>\n      <th>0</th>\n      <td>https://www.youtube.com/watch?v=QAsu4fvCRJs</td>\n      <td>4 hours ago</td>\n    </tr>\n    <tr>\n      <th>1</th>\n      <td>https://www.youtube.com/watch?v=QzIRJePADOo</td>\n      <td>5 hours ago</td>\n    </tr>\n    <tr>\n      <th>2</th>\n      <td>https://www.youtube.com/watch?v=g8U-p1MKhKY</td>\n      <td>5 hours ago</td>\n    </tr>\n    <tr>\n      <th>3</th>\n      <td>https://www.youtube.com/watch?v=lhQXQdZVMrQ</td>\n      <td>9 hours ago</td>\n    </tr>\n    <tr>\n      <th>4</th>\n      <td>https://www.youtube.com/watch?v=V9AJmRpI5u0</td>\n      <td>11 hours ago</td>\n    </tr>\n    <tr>\n      <th>...</th>\n      <td>...</td>\n      <td>...</td>\n    </tr>\n    <tr>\n      <th>167</th>\n      <td>https://www.youtube.com/watch?v=XEpAgCnnYdY</td>\n      <td>4 weeks ago</td>\n    </tr>\n    <tr>\n      <th>168</th>\n      <td>https://www.youtube.com/watch?v=8KhxSPUTrI8</td>\n      <td>4 weeks ago</td>\n    </tr>\n    <tr>\n      <th>169</th>\n      <td>https://www.youtube.com/watch?v=dfDAFmYv7aI</td>\n      <td>4 weeks ago</td>\n    </tr>\n    <tr>\n      <th>170</th>\n      <td>https://www.youtube.com/watch?v=6m2ixU05Voo</td>\n      <td>4 weeks ago</td>\n    </tr>\n    <tr>\n      <th>171</th>\n      <td>https://www.youtube.com/watch?v=zjGssqJ4nq8</td>\n      <td>4 weeks ago</td>\n    </tr>\n  </tbody>\n</table>\n<p>172 rows × 2 columns</p>\n</div>"
     },
     "metadata": {},
     "execution_count": 11
    }
   ],
   "source": [
    "t=yt.get_recent_videos_from_query('flood')\n",
    "x=pd.DataFrame.from_dict(t)\n",
    "x"
   ]
  },
  {
   "cell_type": "code",
   "execution_count": null,
   "metadata": {},
   "outputs": [],
   "source": [
    "yt.get_video_transcript('https://www.youtube.com/watch?v=5Z2E4zMBWUQ')"
   ]
  }
 ]
}