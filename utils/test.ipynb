{
 "metadata": {
  "language_info": {
   "codemirror_mode": {
    "name": "ipython",
    "version": 3
   },
   "file_extension": ".py",
   "mimetype": "text/x-python",
   "name": "python",
   "nbconvert_exporter": "python",
   "pygments_lexer": "ipython3",
   "version": "3.8.5-final"
  },
  "orig_nbformat": 2,
  "kernelspec": {
   "name": "python3",
   "display_name": "Python 3",
   "language": "python"
  }
 },
 "nbformat": 4,
 "nbformat_minor": 2,
 "cells": [
  {
   "cell_type": "code",
   "execution_count": 1,
   "metadata": {},
   "outputs": [],
   "source": [
    "import pandas as pd"
   ]
  },
  {
   "cell_type": "code",
   "execution_count": 2,
   "metadata": {},
   "outputs": [],
   "source": [
    "class youtube_crawler():\n",
    "    LIKES=\"LIKES\"\n",
    "    DISLIKES=\"DISLIKES\"\n",
    "    VIEWS=\"VIEWS\"\n",
    "    UPLOAD_DATE=\"UPLOAD_DATE\"\n",
    "    TITLE=\"TITLE\"\n",
    "    DESCRIPTION=\"DESCRIPTION\"\n",
    "    DURATION=\"DURATION\"\n",
    "    NUM_COMMENTS=\"NUM_COMMENTS\"\n",
    "    CHANNEL_SUBS=\"CHANNEL_SUBS\"\n",
    "    URL=\"URL\"\n",
    "    CHANNEL_NAME=\"CHANNEL_NAME\"\n",
    "    TRANSCRIPT=\"TRANSCRIPT\"\n",
    "\n",
    "    def __init__(self):\n",
    "        self.__word_list=[]\n",
    "        self.__df__=pd.DataFrame(columns=[CSV_COLS.URL,CSV_COLS.TITLE, CSV_COLS.DESCRIPTION, CSV_COLS.LIKES, CSV_COLS.DISLIKES, CSV_COLS.VIEWS, CSV_COLS.UPLOAD_DATE, CSV_COLS.DURATION, \n",
    "                                          CSV_COLS.NUM_COMMENTS, CSV_COLS.CHANNEL_NAME, CSV_COLS.CHANNEL_SUBS, CSV_COLS.URL, CSV_COLS.TRANSCRIPT])\n",
    "        \n",
    "    #return a df with 2 cols: |timestamp|_|text| \n",
    "    def get_video_transcript(self, youtube_url):\n",
    "        on_page_driver = WebDriver()\n",
    "        on_page_driver.get(youtube_url)\n",
    "        transcript=[]\n",
    "        time.sleep(5)\n",
    "        on_page_driver.click(CONSTANTS.SKIP_ADD_BUTTON)\n",
    "        time.sleep(2)\n",
    "        on_page_driver.click(CONSTANTS.SHOW_MORE)\n",
    "        on_page_driver.click(X_PATH_CONSTANTS.OPEN_OPTIONS_BUTTON)\n",
    "        on_page_driver.click(X_PATH_CONSTANTS.OPEN_TRANSCRIPT_BUTTON)\n",
    "        transcript = on_page_driver.get_multiple_elements(X_PATH_CONSTANTS.TRANSCRIPT)\n",
    "        \n",
    "        likes = on_page_driver.get_element_text(CONSTANTS.NUMBER_LIKES)\n",
    "        dislikes = on_page_driver.get_element_text(CONSTANTS.NUMBER_DISLIKES)\n",
    "        views = on_page_driver.get_element_text(CONSTANTS.VIEWS)\n",
    "        upload_date = on_page_driver.get_element_text(CONSTANTS.UPLOAD_DATE)\n",
    "        title = on_page_driver.get_element_text(CONSTANTS.TITLE)\n",
    "        description = on_page_driver.get_element_text(CONSTANTS.DESC)\n",
    "        duration = on_page_driver.get_element_text(CONSTANTS.DURATION)\n",
    "        num_comments =on_page_driver.get_element_text(CONSTANTS.NUM_COMMENTS)\n",
    "        channel_name =on_page_driver.get_element_text(CONSTANTS.CHANNEL_NAME)\n",
    "        channel_subs =on_page_driver.get_element_text(CONSTANTS.CHANNEL_SUBS)\n",
    "        #timestamp = on_page_driver.get_element_text(X_PATH_CONSTANTS.TIMESTAMP)\n",
    "        \n",
    "            \n",
    "        total_trans=[]\n",
    "        for e in transcript:\n",
    "            total_trans.append(e.text)\n",
    "        out_dict={CSV_COLS.URL:youtube_url, CSV_COLS.TITLE: title,CSV_COLS.DESCRIPTION:description,  CSV_COLS.LIKES:likes, CSV_COLS.DISLIKES:dislikes, CSV_COLS.VIEWS:views,\n",
    "                CSV_COLS.UPLOAD_DATE:upload_date, CSV_COLS.DURATION:duration, CSV_COLS.NUM_COMMENTS:num_comments, \n",
    "                CSV_COLS.CHANNEL_NAME:channel_name, CSV_COLS.CHANNEL_SUBS:channel_subs, CSV_COLS.URL:youtube_url, CSV_COLS.TRANSCRIPT:total_trans}\n",
    "        on_page_driver.close()\n",
    "        self.__df__=self.__df__.append(out_dict, ignore_index=True)\n",
    "        self.__df__.to_html('temp.html')\n",
    "        self.__df__.to_csv('output.csv')\n",
    "\n",
    "    def get_list_of_videos_on_channel(self, youtube_url):\n",
    "        driver = webdriver.Chrome()\n",
    "        driver.get(youtube_url)\n",
    "        scroll_to_bottom(driver)\n",
    "        time.sleep(4)\n",
    "        videos = driver.find_elements_by_tag_name('a')\n",
    "        list_of_videos =[]\n",
    "        for e in videos:\n",
    "            a = e.get_attribute('href')\n",
    "            if(a !=None and \"redirect\" not in a):\n",
    "                if(\"watch\" in a and a not in list_of_videos):\n",
    "                    list_of_videos.append(a)\n",
    "        driver.close()\n",
    "       \n",
    "        return list_of_videos"
   ]
  },
  {
   "cell_type": "code",
   "execution_count": 3,
   "metadata": {},
   "outputs": [
    {
     "output_type": "error",
     "ename": "NameError",
     "evalue": "name 'CSV_COLS' is not defined",
     "traceback": [
      "\u001b[0;31m---------------------------------------------------------------------------\u001b[0m",
      "\u001b[0;31mNameError\u001b[0m                                 Traceback (most recent call last)",
      "\u001b[0;32m<ipython-input-3-69767042355b>\u001b[0m in \u001b[0;36m<module>\u001b[0;34m\u001b[0m\n\u001b[0;32m----> 1\u001b[0;31m \u001b[0myt\u001b[0m\u001b[0;34m=\u001b[0m \u001b[0myoutube_crawler\u001b[0m\u001b[0;34m(\u001b[0m\u001b[0;34m)\u001b[0m\u001b[0;34m\u001b[0m\u001b[0;34m\u001b[0m\u001b[0m\n\u001b[0m\u001b[1;32m      2\u001b[0m \u001b[0mt\u001b[0m\u001b[0;34m=\u001b[0m\u001b[0myt\u001b[0m\u001b[0;34m.\u001b[0m\u001b[0mget_all_video_transcripts_from_channel\u001b[0m\u001b[0;34m(\u001b[0m\u001b[0;34m\"https://www.youtube.com/c/FoxNews/videos\"\u001b[0m\u001b[0;34m)\u001b[0m\u001b[0;34m\u001b[0m\u001b[0;34m\u001b[0m\u001b[0m\n",
      "\u001b[0;32m<ipython-input-2-ba00c192da79>\u001b[0m in \u001b[0;36m__init__\u001b[0;34m(self)\u001b[0m\n\u001b[1;32m     15\u001b[0m     \u001b[0;32mdef\u001b[0m \u001b[0m__init__\u001b[0m\u001b[0;34m(\u001b[0m\u001b[0mself\u001b[0m\u001b[0;34m)\u001b[0m\u001b[0;34m:\u001b[0m\u001b[0;34m\u001b[0m\u001b[0;34m\u001b[0m\u001b[0m\n\u001b[1;32m     16\u001b[0m         \u001b[0mself\u001b[0m\u001b[0;34m.\u001b[0m\u001b[0m__word_list\u001b[0m\u001b[0;34m=\u001b[0m\u001b[0;34m[\u001b[0m\u001b[0;34m]\u001b[0m\u001b[0;34m\u001b[0m\u001b[0;34m\u001b[0m\u001b[0m\n\u001b[0;32m---> 17\u001b[0;31m         self.__df__=pd.DataFrame(columns=[CSV_COLS.URL,CSV_COLS.TITLE, CSV_COLS.DESCRIPTION, CSV_COLS.LIKES, CSV_COLS.DISLIKES, CSV_COLS.VIEWS, CSV_COLS.UPLOAD_DATE, CSV_COLS.DURATION, \n\u001b[0m\u001b[1;32m     18\u001b[0m                                           CSV_COLS.NUM_COMMENTS, CSV_COLS.CHANNEL_NAME, CSV_COLS.CHANNEL_SUBS, CSV_COLS.URL, CSV_COLS.TRANSCRIPT])\n\u001b[1;32m     19\u001b[0m \u001b[0;34m\u001b[0m\u001b[0m\n",
      "\u001b[0;31mNameError\u001b[0m: name 'CSV_COLS' is not defined"
     ]
    }
   ],
   "source": [
    "yt= youtube_crawler()\n",
    "t=yt.get_all_video_transcripts_from_channel(\"https://www.youtube.com/c/FoxNews/videos\")"
   ]
  },
  {
   "cell_type": "code",
   "execution_count": 21,
   "metadata": {},
   "outputs": [],
   "source": [
    "s=\"Earthquakes of 1-2-21 by Zoogomoogo 5 hours ago 2 minutes, 26 seconds 60 views 5 Most Powerful Earthquakes in Human History by Underworld 7 hours ago 9 minutes, 50 seconds 4,374 views\""
   ]
  },
  {
   "cell_type": "code",
   "execution_count": 23,
   "metadata": {},
   "outputs": [
    {
     "output_type": "stream",
     "name": "stdout",
     "text": [
      "None\n"
     ]
    }
   ],
   "source": [
    "import re\n",
    "r =re.findall(r\"[\\d]+[\\s][\\w]+\\b ago\\b\",s)\n",
    "print(r)"
   ]
  },
  {
   "cell_type": "code",
   "execution_count": null,
   "metadata": {},
   "outputs": [],
   "source": []
  }
 ]
}